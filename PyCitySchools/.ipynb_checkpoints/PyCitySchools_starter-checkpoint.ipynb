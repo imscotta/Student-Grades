{
 "cells": [
  {
   "cell_type": "markdown",
   "metadata": {},
   "source": [
    "### Note\n",
    "* Instructions have been included for each segment. You do not have to follow them exactly, but they are included to help you think through the steps."
   ]
  },
  {
   "cell_type": "code",
   "execution_count": 109,
   "metadata": {},
   "outputs": [
    {
     "name": "stdout",
     "output_type": "stream",
     "text": [
      "    School ID            school_name      type  size   budget\n",
      "0           0      Huang High School  District  2917  1910635\n",
      "1           1   Figueroa High School  District  2949  1884411\n",
      "2           2    Shelton High School   Charter  1761  1056600\n",
      "3           3  Hernandez High School  District  4635  3022020\n",
      "4           4    Griffin High School   Charter  1468   917500\n",
      "5           5     Wilson High School   Charter  2283  1319574\n",
      "6           6    Cabrera High School   Charter  1858  1081356\n",
      "7           7     Bailey High School  District  4976  3124928\n",
      "8           8     Holden High School   Charter   427   248087\n",
      "9           9       Pena High School   Charter   962   585858\n",
      "10         10     Wright High School   Charter  1800  1049400\n",
      "11         11  Rodriguez High School  District  3999  2547363\n",
      "12         12    Johnson High School  District  4761  3094650\n",
      "13         13       Ford High School  District  2739  1763916\n",
      "14         14     Thomas High School   Charter  1635  1043130\n"
     ]
    }
   ],
   "source": [
    "# Dependencies and Setup\n",
    "import pandas as pd\n",
    "\n",
    "# File to Load (Remember to Change These)\n",
    "school_data_to_load = \"Resources/schools_complete.csv\"\n",
    "student_data_to_load = \"Resources/students_complete.csv\"\n",
    "\n",
    "# Read School and Student Data File and store into Pandas DataFrames\n",
    "school_data = pd.read_csv(school_data_to_load)\n",
    "student_data = pd.read_csv(student_data_to_load)\n",
    "# Combine the data into a single dataset.  \n",
    "school_data_complete = pd.merge(student_data, school_data, how=\"left\", on=[\"school_name\", \"school_name\"])"
   ]
  },
  {
   "cell_type": "markdown",
   "metadata": {},
   "source": [
    "## District Summary\n",
    "\n",
    "* Calculate the total number of schools\n",
    "\n",
    "* Calculate the total number of students\n",
    "\n",
    "* Calculate the total budget\n",
    "\n",
    "* Calculate the average math score \n",
    "\n",
    "* Calculate the average reading score\n",
    "\n",
    "* Calculate the percentage of students with a passing math score (70 or greater)\n",
    "\n",
    "* Calculate the percentage of students with a passing reading score (70 or greater)\n",
    "\n",
    "* Calculate the percentage of students who passed math **and** reading (% Overall Passing)\n",
    "\n",
    "* Create a dataframe to hold the above results\n",
    "\n",
    "* Optional: give the displayed data cleaner formatting"
   ]
  },
  {
   "cell_type": "code",
   "execution_count": 113,
   "metadata": {},
   "outputs": [
    {
     "name": "stdout",
     "output_type": "stream",
     "text": [
      "Total Schools: 15\n",
      "Total Students: 39170\n",
      "Total Budget: $24649428\n",
      "Average Math Score: 78.99\n",
      "Average Reading Score: 81.88\n",
      "Passing Math Scores: 75%\n",
      "Passing Reading Scores: 86%\n",
      "Passing Overall Scores: 65%\n",
      "Passing Students:\n",
      "       Student ID     student_name gender grade         school_name  \\\n",
      "4               4       Bonnie Ray      F   9th   Huang High School   \n",
      "5               5    Bryan Miranda      M   9th   Huang High School   \n",
      "6               6    Sheena Carter      F  11th   Huang High School   \n",
      "8               8     Michael Roth      M  10th   Huang High School   \n",
      "9               9   Matthew Greene      M  10th   Huang High School   \n",
      "...           ...              ...    ...   ...                 ...   \n",
      "39165       39165     Donna Howard      F  12th  Thomas High School   \n",
      "39166       39166        Dawn Bell      F  10th  Thomas High School   \n",
      "39167       39167   Rebecca Tanner      F   9th  Thomas High School   \n",
      "39168       39168     Desiree Kidd      F  10th  Thomas High School   \n",
      "39169       39169  Carolyn Jackson      F  11th  Thomas High School   \n",
      "\n",
      "       reading_score  math_score  \n",
      "4                 97          84  \n",
      "5                 94          94  \n",
      "6                 82          80  \n",
      "8                 95          87  \n",
      "9                 96          84  \n",
      "...              ...         ...  \n",
      "39165             99          90  \n",
      "39166             95          70  \n",
      "39167             73          84  \n",
      "39168             99          90  \n",
      "39169             95          75  \n",
      "\n",
      "[25528 rows x 7 columns]\n"
     ]
    }
   ],
   "source": [
    "school_count = len(school_data)\n",
    "print(\"Total Schools: \" + str(school_count))\n",
    "\n",
    "total_students = school_data[\"size\"].sum()\n",
    "print(\"Total Students: \" + str(total_students))\n",
    "\n",
    "total_budget = school_data[\"budget\"].sum()\n",
    "print(\"Total Budget: $\" + str(total_budget))\n",
    "\n",
    "average_math_score = student_data[\"math_score\"].mean()\n",
    "print(\"Average Math Score: \" + str(round(average_math_score,2)))\n",
    "\n",
    "average_reading_score = student_data[\"reading_score\"].mean()\n",
    "print(\"Average Reading Score: \" + str(round(average_reading_score,2)))\n",
    "\n",
    "passing_math_total = len(student_data[student_data[\"math_score\"] >= 70])\n",
    "passing_math_percentage = passing_math_total / len(student_data)\n",
    "print(\"Passing Math Scores: {0:.0%}\".format(passing_math_percentage))\n",
    "\n",
    "passing_reading_total = len(student_data[student_data[\"reading_score\"] >= 70])\n",
    "passing_reading_percentage = passing_reading_total / len(student_data)\n",
    "print(\"Passing Reading Scores: {0:.0%}\".format(passing_reading_percentage))\n",
    "\n",
    "overall_passing_total = len(student_data[(student_data[\"math_score\"] >= 70) & (student_data[\"reading_score\"] >= 70)])\n",
    "overall_passing_percentage = overall_passing_total / len(student_data)\n",
    "print(\"Passing Overall Scores: {0:.0%}\".format(overall_passing_percentage))\n",
    "\n",
    "overall_passing = student_data[(student_data[\"math_score\"] >= 70) & (student_data[\"reading_score\"] >= 70)]\n",
    "\n",
    "df = pd.DataFrame(overall_passing)\n",
    "\n",
    "print(\"Passing Students:\")\n",
    "\n",
    "\"\"\"\n",
    "\n",
    "    Rename column names: Average Reading Score, Average Math Score, Total Students\n",
    "\n",
    "\"\"\"\n",
    "\n",
    "\n",
    "print(df)\n"
   ]
  },
  {
   "cell_type": "markdown",
   "metadata": {},
   "source": [
    "## School Summary"
   ]
  },
  {
   "cell_type": "markdown",
   "metadata": {},
   "source": [
    "* Create an overview table that summarizes key metrics about each school, including:\n",
    "  * School Name\n",
    "  * School Type\n",
    "  * Total Students\n",
    "  * Total School Budget\n",
    "  * Per Student Budget\n",
    "  * Average Math Score\n",
    "  * Average Reading Score\n",
    "  * % Passing Math\n",
    "  * % Passing Reading\n",
    "  * % Overall Passing (The percentage of students that passed math **and** reading.)\n",
    "  \n",
    "* Create a dataframe to hold the above results"
   ]
  },
  {
   "cell_type": "code",
   "execution_count": 172,
   "metadata": {},
   "outputs": [
    {
     "name": "stdout",
     "output_type": "stream",
     "text": [
      "    School ID            school_name      type  size   budget  \\\n",
      "0           0      Huang High School  District  2917  1910635   \n",
      "1           1   Figueroa High School  District  2949  1884411   \n",
      "2           2    Shelton High School   Charter  1761  1056600   \n",
      "3           3  Hernandez High School  District  4635  3022020   \n",
      "4           4    Griffin High School   Charter  1468   917500   \n",
      "5           5     Wilson High School   Charter  2283  1319574   \n",
      "6           6    Cabrera High School   Charter  1858  1081356   \n",
      "7           7     Bailey High School  District  4976  3124928   \n",
      "8           8     Holden High School   Charter   427   248087   \n",
      "9           9       Pena High School   Charter   962   585858   \n",
      "10         10     Wright High School   Charter  1800  1049400   \n",
      "11         11  Rodriguez High School  District  3999  2547363   \n",
      "12         12    Johnson High School  District  4761  3094650   \n",
      "13         13       Ford High School  District  2739  1763916   \n",
      "14         14     Thomas High School   Charter  1635  1043130   \n",
      "\n",
      "    Budget Per Student  reading_score  math_score   0_x  % Passing Reading  \\\n",
      "0                655.0      81.182722   76.629414  2299           0.788138   \n",
      "1                639.0      81.158020   76.711767  2313           0.784334   \n",
      "2                600.0      83.725724   83.359455  1631           0.926178   \n",
      "3                652.0      80.934412   77.289752  3624           0.781877   \n",
      "4                625.0      83.816757   83.351499  1371           0.933924   \n",
      "5                578.0      83.989488   83.274201  2129           0.932545   \n",
      "6                582.0      83.975780   83.061895  1744           0.938644   \n",
      "7                628.0      81.033963   77.048432  3946           0.793006   \n",
      "8                581.0      83.814988   83.803279   396           0.927400   \n",
      "9                609.0      84.044699   83.839917   887           0.922037   \n",
      "10               583.0      83.955000   83.682222  1682           0.934444   \n",
      "11               637.0      80.744686   76.842711  3109           0.777444   \n",
      "12               650.0      80.966394   77.072464  3727           0.782819   \n",
      "13               644.0      80.746258   77.102592  2123           0.775100   \n",
      "14               638.0      83.848930   83.418349  1519           0.929052   \n",
      "\n",
      "     0_y  % Passing Math     0  % Passing Overall  \n",
      "0   1847        0.633185  1456           0.499143  \n",
      "1   1880        0.637504  1472           0.499152  \n",
      "2   1583        0.898921  1465           0.831914  \n",
      "3   3001        0.647465  2325           0.501618  \n",
      "4   1317        0.897139  1228           0.836512  \n",
      "5   2076        0.909330  1938           0.848883  \n",
      "6   1664        0.895587  1561           0.840151  \n",
      "7   3216        0.646302  2545           0.511455  \n",
      "8    387        0.906323   359           0.840749  \n",
      "9    882        0.916840   816           0.848233  \n",
      "10  1625        0.902778  1520           0.844444  \n",
      "11  2562        0.640660  1977           0.494374  \n",
      "12  3040        0.638521  2371           0.498005  \n",
      "13  1801        0.657539  1405           0.512961  \n",
      "14  1475        0.902141  1378           0.842813  \n"
     ]
    }
   ],
   "source": [
    "#print(school_data_complete)\n",
    "#print(student_data)\n",
    "#print(school_data)\n",
    "\n",
    "#School name, type, total students\n",
    "school_summary = school_data\n",
    "\n",
    "#Per Student Budget\n",
    "budget_per_student = school_summary['budget'] / school_summary['size']\n",
    "school_summary['Budget Per Student'] = budget_per_student\n",
    "\n",
    "#Average Math and Reading Score\n",
    "schools_average_scores = school_data_complete.groupby(['school_name']).mean()\n",
    "#print(schools_average_scores)\n",
    "school_summary = pd.merge(school_summary, schools_average_scores[['reading_score', 'math_score']], on=['school_name'])\n",
    "#print(school_summary)\n",
    "\n",
    "\"\"\"\n",
    "\n",
    "To Do\n",
    "    Delete columns\n",
    "\n",
    "\"\"\"\n",
    "\n",
    "#Passing Scores\n",
    "#Reading\n",
    "reading_passing_school = school_data_complete[school_data_complete['reading_score'] > 70]\n",
    "reading_passing_totals = reading_passing_school.groupby(['school_name']).size()\n",
    "school_summary = pd.merge(school_summary, reading_passing_totals.to_frame(), on=['school_name'])\n",
    "pass_reading = school_summary[0] / school_summary['size']\n",
    "school_summary['% Passing Reading'] = pass_reading\n",
    "school_summary.drop(columns = [0])\n",
    "#print(school_summary)\n",
    "\n",
    "math_passing_school = school_data_complete[school_data_complete['math_score'] > 70]\n",
    "math_passing_totals = math_passing_school.groupby(['school_name']).size()\n",
    "school_summary = pd.merge(school_summary, math_passing_totals.to_frame(), on=['school_name'])\n",
    "#print(math_passing_totals)\n",
    "#print(school_summary)\n",
    "pass_math = school_summary['0_y'] / school_summary['size']\n",
    "school_summary['% Passing Math'] = pass_math\n",
    "school_summary.drop(columns = ['0_y'])\n",
    "#print(school_summary)\n",
    "\n",
    "overall_passing_school = school_data_complete[(school_data_complete['reading_score'] > 70) & (school_data_complete['math_score'] > 70)]\n",
    "overall_passing_totals = overall_passing_school.groupby(['school_name']).size()\n",
    "school_summary = pd.merge(school_summary, overall_passing_totals.to_frame(), on=['school_name'])\n",
    "#print(overall_passing_totals)\n",
    "#print(school_summary)\n",
    "pass_overall = school_summary[0] / school_summary['size']\n",
    "school_summary['% Passing Overall'] = pass_overall\n",
    "#school_summary.drop(columns = ['0'])\n",
    "print(school_summary)\n"
   ]
  },
  {
   "cell_type": "markdown",
   "metadata": {},
   "source": [
    "## Top Performing Schools (By % Overall Passing)"
   ]
  },
  {
   "cell_type": "markdown",
   "metadata": {},
   "source": [
    "* Sort and display the top five performing schools by % overall passing."
   ]
  },
  {
   "cell_type": "code",
   "execution_count": 179,
   "metadata": {
    "scrolled": true
   },
   "outputs": [
    {
     "name": "stdout",
     "output_type": "stream",
     "text": [
      "    School ID         school_name     type  size   budget  Budget Per Student  \\\n",
      "8           8  Holden High School  Charter   427   248087               581.0   \n",
      "14         14  Thomas High School  Charter  1635  1043130               638.0   \n",
      "10         10  Wright High School  Charter  1800  1049400               583.0   \n",
      "9           9    Pena High School  Charter   962   585858               609.0   \n",
      "5           5  Wilson High School  Charter  2283  1319574               578.0   \n",
      "\n",
      "    reading_score  math_score   0_x  % Passing Reading   0_y  % Passing Math  \\\n",
      "8       83.814988   83.803279   396           0.927400   387        0.906323   \n",
      "14      83.848930   83.418349  1519           0.929052  1475        0.902141   \n",
      "10      83.955000   83.682222  1682           0.934444  1625        0.902778   \n",
      "9       84.044699   83.839917   887           0.922037   882        0.916840   \n",
      "5       83.989488   83.274201  2129           0.932545  2076        0.909330   \n",
      "\n",
      "       0  % Passing Overall  \n",
      "8    359           0.840749  \n",
      "14  1378           0.842813  \n",
      "10  1520           0.844444  \n",
      "9    816           0.848233  \n",
      "5   1938           0.848883  \n"
     ]
    }
   ],
   "source": [
    "\"\"\"To Do\n",
    "Sort in order\"\"\"\n",
    "\n",
    "top_performers = school_summary.sort_values(by=\"% Passing Overall\")\n",
    "print(top_performers.tail())"
   ]
  },
  {
   "cell_type": "markdown",
   "metadata": {},
   "source": [
    "## Bottom Performing Schools (By % Overall Passing)"
   ]
  },
  {
   "cell_type": "markdown",
   "metadata": {},
   "source": [
    "* Sort and display the five worst-performing schools by % overall passing."
   ]
  },
  {
   "cell_type": "code",
   "execution_count": 178,
   "metadata": {},
   "outputs": [
    {
     "name": "stdout",
     "output_type": "stream",
     "text": [
      "    School ID            school_name      type  size   budget  \\\n",
      "11         11  Rodriguez High School  District  3999  2547363   \n",
      "12         12    Johnson High School  District  4761  3094650   \n",
      "0           0      Huang High School  District  2917  1910635   \n",
      "1           1   Figueroa High School  District  2949  1884411   \n",
      "3           3  Hernandez High School  District  4635  3022020   \n",
      "\n",
      "    Budget Per Student  reading_score  math_score   0_x  % Passing Reading  \\\n",
      "11               637.0      80.744686   76.842711  3109           0.777444   \n",
      "12               650.0      80.966394   77.072464  3727           0.782819   \n",
      "0                655.0      81.182722   76.629414  2299           0.788138   \n",
      "1                639.0      81.158020   76.711767  2313           0.784334   \n",
      "3                652.0      80.934412   77.289752  3624           0.781877   \n",
      "\n",
      "     0_y  % Passing Math     0  % Passing Overall  \n",
      "11  2562        0.640660  1977           0.494374  \n",
      "12  3040        0.638521  2371           0.498005  \n",
      "0   1847        0.633185  1456           0.499143  \n",
      "1   1880        0.637504  1472           0.499152  \n",
      "3   3001        0.647465  2325           0.501618  \n"
     ]
    }
   ],
   "source": [
    "worst_performers = school_summary.sort_values(by=\"% Passing Overall\")\n",
    "print(top_performers.head())"
   ]
  },
  {
   "cell_type": "markdown",
   "metadata": {},
   "source": [
    "## Math Scores by Grade"
   ]
  },
  {
   "cell_type": "markdown",
   "metadata": {},
   "source": [
    "* Create a table that lists the average Reading Score for students of each grade level (9th, 10th, 11th, 12th) at each school.\n",
    "\n",
    "  * Create a pandas series for each grade. Hint: use a conditional statement.\n",
    "  \n",
    "  * Group each series by school\n",
    "  \n",
    "  * Combine the series into a dataframe\n",
    "  \n",
    "  * Optional: give the displayed data cleaner formatting"
   ]
  },
  {
   "cell_type": "code",
   "execution_count": 191,
   "metadata": {},
   "outputs": [
    {
     "name": "stdout",
     "output_type": "stream",
     "text": [
      "                             math_score\n",
      "school_name           grade            \n",
      "Bailey High School    10th    76.996772\n",
      "                      11th    77.515588\n",
      "                      12th    76.492218\n",
      "                      9th     77.083676\n",
      "Cabrera High School   10th    83.154506\n",
      "                      11th    82.765560\n",
      "                      12th    83.277487\n",
      "                      9th     83.094697\n",
      "Figueroa High School  10th    76.539974\n",
      "                      11th    76.884344\n",
      "                      12th    77.151369\n",
      "                      9th     76.403037\n",
      "Ford High School      10th    77.672316\n",
      "                      11th    76.918058\n",
      "                      12th    76.179963\n",
      "                      9th     77.361345\n",
      "Griffin High School   10th    84.229064\n",
      "                      11th    83.842105\n",
      "                      12th    83.356164\n",
      "                      9th     82.044010\n",
      "Hernandez High School 10th    77.337408\n",
      "                      11th    77.136029\n",
      "                      12th    77.186567\n",
      "                      9th     77.438495\n",
      "Holden High School    10th    83.429825\n",
      "                      11th    85.000000\n",
      "                      12th    82.855422\n",
      "                      9th     83.787402\n",
      "Huang High School     10th    75.908735\n",
      "                      11th    76.446602\n",
      "                      12th    77.225641\n",
      "                      9th     77.027251\n",
      "Johnson High School   10th    76.691117\n",
      "                      11th    77.491653\n",
      "                      12th    76.863248\n",
      "                      9th     77.187857\n",
      "Pena High School      10th    83.372000\n",
      "                      11th    84.328125\n",
      "                      12th    84.121547\n",
      "                      9th     83.625455\n",
      "Rodriguez High School 10th    76.612500\n",
      "                      11th    76.395626\n",
      "                      12th    77.690748\n",
      "                      9th     76.859966\n",
      "Shelton High School   10th    82.917411\n",
      "                      11th    83.383495\n",
      "                      12th    83.778976\n",
      "                      9th     83.420755\n",
      "Thomas High School    10th    83.087886\n",
      "                      11th    83.498795\n",
      "                      12th    83.497041\n",
      "                      9th     83.590022\n",
      "Wilson High School    10th    83.724422\n",
      "                      11th    83.195326\n",
      "                      12th    83.035794\n",
      "                      9th     83.085578\n",
      "Wright High School    10th    84.010288\n",
      "                      11th    83.836782\n",
      "                      12th    83.644986\n",
      "                      9th     83.264706\n"
     ]
    }
   ],
   "source": [
    "#print(student_data)\n",
    "\"\"\"To do\n",
    "Sort Values by grade\"\"\"\n",
    "\n",
    "math_scores_by_grade = student_data[['school_name', 'grade', 'math_score']].groupby(['school_name', 'grade']).mean()\n",
    "print(math_scores_by_grade)\n"
   ]
  },
  {
   "cell_type": "markdown",
   "metadata": {},
   "source": [
    "## Reading Score by Grade "
   ]
  },
  {
   "cell_type": "markdown",
   "metadata": {},
   "source": [
    "* Perform the same operations as above for reading scores"
   ]
  },
  {
   "cell_type": "code",
   "execution_count": 192,
   "metadata": {},
   "outputs": [
    {
     "name": "stdout",
     "output_type": "stream",
     "text": [
      "                             reading_score\n",
      "school_name           grade               \n",
      "Bailey High School    10th       80.907183\n",
      "                      11th       80.945643\n",
      "                      12th       80.912451\n",
      "                      9th        81.303155\n",
      "Cabrera High School   10th       84.253219\n",
      "                      11th       83.788382\n",
      "                      12th       84.287958\n",
      "                      9th        83.676136\n",
      "Figueroa High School  10th       81.408912\n",
      "                      11th       80.640339\n",
      "                      12th       81.384863\n",
      "                      9th        81.198598\n",
      "Ford High School      10th       81.262712\n",
      "                      11th       80.403642\n",
      "                      12th       80.662338\n",
      "                      9th        80.632653\n",
      "Griffin High School   10th       83.706897\n",
      "                      11th       84.288089\n",
      "                      12th       84.013699\n",
      "                      9th        83.369193\n",
      "Hernandez High School 10th       80.660147\n",
      "                      11th       81.396140\n",
      "                      12th       80.857143\n",
      "                      9th        80.866860\n",
      "Holden High School    10th       83.324561\n",
      "                      11th       83.815534\n",
      "                      12th       84.698795\n",
      "                      9th        83.677165\n",
      "Huang High School     10th       81.512386\n",
      "                      11th       81.417476\n",
      "                      12th       80.305983\n",
      "                      9th        81.290284\n",
      "Johnson High School   10th       80.773431\n",
      "                      11th       80.616027\n",
      "                      12th       81.227564\n",
      "                      9th        81.260714\n",
      "Pena High School      10th       83.612000\n",
      "                      11th       84.335938\n",
      "                      12th       84.591160\n",
      "                      9th        83.807273\n",
      "Rodriguez High School 10th       80.629808\n",
      "                      11th       80.864811\n",
      "                      12th       80.376426\n",
      "                      9th        80.993127\n",
      "Shelton High School   10th       83.441964\n",
      "                      11th       84.373786\n",
      "                      12th       82.781671\n",
      "                      9th        84.122642\n",
      "Thomas High School    10th       84.254157\n",
      "                      11th       83.585542\n",
      "                      12th       83.831361\n",
      "                      9th        83.728850\n",
      "Wilson High School    10th       84.021452\n",
      "                      11th       83.764608\n",
      "                      12th       84.317673\n",
      "                      9th        83.939778\n",
      "Wright High School    10th       83.812757\n",
      "                      11th       84.156322\n",
      "                      12th       84.073171\n",
      "                      9th        83.833333\n"
     ]
    }
   ],
   "source": [
    "reading_scores_by_grade = student_data[['school_name', 'grade', 'reading_score']].groupby(['school_name', 'grade']).mean()\n",
    "print(reading_scores_by_grade)"
   ]
  },
  {
   "cell_type": "markdown",
   "metadata": {},
   "source": [
    "## Scores by School Spending"
   ]
  },
  {
   "cell_type": "markdown",
   "metadata": {},
   "source": [
    "* Create a table that breaks down school performances based on average Spending Ranges (Per Student). Use 4 reasonable bins to group school spending. Include in the table each of the following:\n",
    "  * Average Math Score\n",
    "  * Average Reading Score\n",
    "  * % Passing Math\n",
    "  * % Passing Reading\n",
    "  * Overall Passing Rate (Average of the above two)"
   ]
  },
  {
   "cell_type": "code",
   "execution_count": 197,
   "metadata": {},
   "outputs": [
    {
     "ename": "ValueError",
     "evalue": "Grouper for 'Budget Per Student' not 1-dimensional",
     "output_type": "error",
     "traceback": [
      "\u001b[0;31m---------------------------------------------------------------------------\u001b[0m",
      "\u001b[0;31mValueError\u001b[0m                                Traceback (most recent call last)",
      "\u001b[0;32m/var/folders/09/5py7qhsj2d3bxd9sxpcxvwt80000gn/T/ipykernel_5305/2531998011.py\u001b[0m in \u001b[0;36m<module>\u001b[0;34m\u001b[0m\n\u001b[1;32m     21\u001b[0m \u001b[0;34m\u001b[0m\u001b[0m\n\u001b[1;32m     22\u001b[0m \u001b[0;31m#scores_by_spending['bin'] = pd.cut(scores_by_spending['Budget Per Student'], [0,585,630,645,680], labels=['>585','585-630','630-645','645-680'])\u001b[0m\u001b[0;34m\u001b[0m\u001b[0;34m\u001b[0m\u001b[0m\n\u001b[0;32m---> 23\u001b[0;31m table = pd.pivot_table(scores_by_spending, values=['Budget Per Student'], index=['Budget Per Student'],\n\u001b[0m\u001b[1;32m     24\u001b[0m                     columns=['math_score', 'reading_score', '% Passing Math', '% Passing Reading', '% Passing Overall'])\n\u001b[1;32m     25\u001b[0m \u001b[0mprint\u001b[0m\u001b[0;34m(\u001b[0m\u001b[0mtable\u001b[0m\u001b[0;34m)\u001b[0m\u001b[0;34m\u001b[0m\u001b[0;34m\u001b[0m\u001b[0m\n",
      "\u001b[0;32m~/opt/anaconda3/lib/python3.9/site-packages/pandas/core/reshape/pivot.py\u001b[0m in \u001b[0;36mpivot_table\u001b[0;34m(data, values, index, columns, aggfunc, fill_value, margins, dropna, margins_name, observed, sort)\u001b[0m\n\u001b[1;32m     93\u001b[0m         \u001b[0;32mreturn\u001b[0m \u001b[0mtable\u001b[0m\u001b[0;34m.\u001b[0m\u001b[0m__finalize__\u001b[0m\u001b[0;34m(\u001b[0m\u001b[0mdata\u001b[0m\u001b[0;34m,\u001b[0m \u001b[0mmethod\u001b[0m\u001b[0;34m=\u001b[0m\u001b[0;34m\"pivot_table\"\u001b[0m\u001b[0;34m)\u001b[0m\u001b[0;34m\u001b[0m\u001b[0;34m\u001b[0m\u001b[0m\n\u001b[1;32m     94\u001b[0m \u001b[0;34m\u001b[0m\u001b[0m\n\u001b[0;32m---> 95\u001b[0;31m     table = __internal_pivot_table(\n\u001b[0m\u001b[1;32m     96\u001b[0m         \u001b[0mdata\u001b[0m\u001b[0;34m,\u001b[0m\u001b[0;34m\u001b[0m\u001b[0;34m\u001b[0m\u001b[0m\n\u001b[1;32m     97\u001b[0m         \u001b[0mvalues\u001b[0m\u001b[0;34m,\u001b[0m\u001b[0;34m\u001b[0m\u001b[0;34m\u001b[0m\u001b[0m\n",
      "\u001b[0;32m~/opt/anaconda3/lib/python3.9/site-packages/pandas/core/reshape/pivot.py\u001b[0m in \u001b[0;36m__internal_pivot_table\u001b[0;34m(data, values, index, columns, aggfunc, fill_value, margins, dropna, margins_name, observed, sort)\u001b[0m\n\u001b[1;32m    162\u001b[0m         \u001b[0mvalues\u001b[0m \u001b[0;34m=\u001b[0m \u001b[0mlist\u001b[0m\u001b[0;34m(\u001b[0m\u001b[0mvalues\u001b[0m\u001b[0;34m)\u001b[0m\u001b[0;34m\u001b[0m\u001b[0;34m\u001b[0m\u001b[0m\n\u001b[1;32m    163\u001b[0m \u001b[0;34m\u001b[0m\u001b[0m\n\u001b[0;32m--> 164\u001b[0;31m     \u001b[0mgrouped\u001b[0m \u001b[0;34m=\u001b[0m \u001b[0mdata\u001b[0m\u001b[0;34m.\u001b[0m\u001b[0mgroupby\u001b[0m\u001b[0;34m(\u001b[0m\u001b[0mkeys\u001b[0m\u001b[0;34m,\u001b[0m \u001b[0mobserved\u001b[0m\u001b[0;34m=\u001b[0m\u001b[0mobserved\u001b[0m\u001b[0;34m,\u001b[0m \u001b[0msort\u001b[0m\u001b[0;34m=\u001b[0m\u001b[0msort\u001b[0m\u001b[0;34m)\u001b[0m\u001b[0;34m\u001b[0m\u001b[0;34m\u001b[0m\u001b[0m\n\u001b[0m\u001b[1;32m    165\u001b[0m     \u001b[0magged\u001b[0m \u001b[0;34m=\u001b[0m \u001b[0mgrouped\u001b[0m\u001b[0;34m.\u001b[0m\u001b[0magg\u001b[0m\u001b[0;34m(\u001b[0m\u001b[0maggfunc\u001b[0m\u001b[0;34m)\u001b[0m\u001b[0;34m\u001b[0m\u001b[0;34m\u001b[0m\u001b[0m\n\u001b[1;32m    166\u001b[0m     \u001b[0;32mif\u001b[0m \u001b[0mdropna\u001b[0m \u001b[0;32mand\u001b[0m \u001b[0misinstance\u001b[0m\u001b[0;34m(\u001b[0m\u001b[0magged\u001b[0m\u001b[0;34m,\u001b[0m \u001b[0mABCDataFrame\u001b[0m\u001b[0;34m)\u001b[0m \u001b[0;32mand\u001b[0m \u001b[0mlen\u001b[0m\u001b[0;34m(\u001b[0m\u001b[0magged\u001b[0m\u001b[0;34m.\u001b[0m\u001b[0mcolumns\u001b[0m\u001b[0;34m)\u001b[0m\u001b[0;34m:\u001b[0m\u001b[0;34m\u001b[0m\u001b[0;34m\u001b[0m\u001b[0m\n",
      "\u001b[0;32m~/opt/anaconda3/lib/python3.9/site-packages/pandas/core/frame.py\u001b[0m in \u001b[0;36mgroupby\u001b[0;34m(self, by, axis, level, as_index, sort, group_keys, squeeze, observed, dropna)\u001b[0m\n\u001b[1;32m   7629\u001b[0m         \u001b[0;31m# error: Argument \"squeeze\" to \"DataFrameGroupBy\" has incompatible type\u001b[0m\u001b[0;34m\u001b[0m\u001b[0;34m\u001b[0m\u001b[0m\n\u001b[1;32m   7630\u001b[0m         \u001b[0;31m# \"Union[bool, NoDefault]\"; expected \"bool\"\u001b[0m\u001b[0;34m\u001b[0m\u001b[0;34m\u001b[0m\u001b[0m\n\u001b[0;32m-> 7631\u001b[0;31m         return DataFrameGroupBy(\n\u001b[0m\u001b[1;32m   7632\u001b[0m             \u001b[0mobj\u001b[0m\u001b[0;34m=\u001b[0m\u001b[0mself\u001b[0m\u001b[0;34m,\u001b[0m\u001b[0;34m\u001b[0m\u001b[0;34m\u001b[0m\u001b[0m\n\u001b[1;32m   7633\u001b[0m             \u001b[0mkeys\u001b[0m\u001b[0;34m=\u001b[0m\u001b[0mby\u001b[0m\u001b[0;34m,\u001b[0m\u001b[0;34m\u001b[0m\u001b[0;34m\u001b[0m\u001b[0m\n",
      "\u001b[0;32m~/opt/anaconda3/lib/python3.9/site-packages/pandas/core/groupby/groupby.py\u001b[0m in \u001b[0;36m__init__\u001b[0;34m(self, obj, keys, axis, level, grouper, exclusions, selection, as_index, sort, group_keys, squeeze, observed, mutated, dropna)\u001b[0m\n\u001b[1;32m    887\u001b[0m             \u001b[0;32mfrom\u001b[0m \u001b[0mpandas\u001b[0m\u001b[0;34m.\u001b[0m\u001b[0mcore\u001b[0m\u001b[0;34m.\u001b[0m\u001b[0mgroupby\u001b[0m\u001b[0;34m.\u001b[0m\u001b[0mgrouper\u001b[0m \u001b[0;32mimport\u001b[0m \u001b[0mget_grouper\u001b[0m\u001b[0;34m\u001b[0m\u001b[0;34m\u001b[0m\u001b[0m\n\u001b[1;32m    888\u001b[0m \u001b[0;34m\u001b[0m\u001b[0m\n\u001b[0;32m--> 889\u001b[0;31m             grouper, exclusions, obj = get_grouper(\n\u001b[0m\u001b[1;32m    890\u001b[0m                 \u001b[0mobj\u001b[0m\u001b[0;34m,\u001b[0m\u001b[0;34m\u001b[0m\u001b[0;34m\u001b[0m\u001b[0m\n\u001b[1;32m    891\u001b[0m                 \u001b[0mkeys\u001b[0m\u001b[0;34m,\u001b[0m\u001b[0;34m\u001b[0m\u001b[0;34m\u001b[0m\u001b[0m\n",
      "\u001b[0;32m~/opt/anaconda3/lib/python3.9/site-packages/pandas/core/groupby/grouper.py\u001b[0m in \u001b[0;36mget_grouper\u001b[0;34m(obj, key, axis, level, sort, observed, mutated, validate, dropna)\u001b[0m\n\u001b[1;32m    855\u001b[0m                     \u001b[0;31m# non-unique columns; raise here to get the name in the\u001b[0m\u001b[0;34m\u001b[0m\u001b[0;34m\u001b[0m\u001b[0m\n\u001b[1;32m    856\u001b[0m                     \u001b[0;31m# exception message\u001b[0m\u001b[0;34m\u001b[0m\u001b[0;34m\u001b[0m\u001b[0m\n\u001b[0;32m--> 857\u001b[0;31m                     \u001b[0;32mraise\u001b[0m \u001b[0mValueError\u001b[0m\u001b[0;34m(\u001b[0m\u001b[0;34mf\"Grouper for '{name}' not 1-dimensional\"\u001b[0m\u001b[0;34m)\u001b[0m\u001b[0;34m\u001b[0m\u001b[0;34m\u001b[0m\u001b[0m\n\u001b[0m\u001b[1;32m    858\u001b[0m                 \u001b[0mexclusions\u001b[0m\u001b[0;34m.\u001b[0m\u001b[0madd\u001b[0m\u001b[0;34m(\u001b[0m\u001b[0mname\u001b[0m\u001b[0;34m)\u001b[0m\u001b[0;34m\u001b[0m\u001b[0;34m\u001b[0m\u001b[0m\n\u001b[1;32m    859\u001b[0m             \u001b[0;32melif\u001b[0m \u001b[0mobj\u001b[0m\u001b[0;34m.\u001b[0m\u001b[0m_is_level_reference\u001b[0m\u001b[0;34m(\u001b[0m\u001b[0mgpr\u001b[0m\u001b[0;34m,\u001b[0m \u001b[0maxis\u001b[0m\u001b[0;34m=\u001b[0m\u001b[0maxis\u001b[0m\u001b[0;34m)\u001b[0m\u001b[0;34m:\u001b[0m\u001b[0;34m\u001b[0m\u001b[0;34m\u001b[0m\u001b[0m\n",
      "\u001b[0;31mValueError\u001b[0m: Grouper for 'Budget Per Student' not 1-dimensional"
     ]
    }
   ],
   "source": [
    "\"\"\"To Do\n",
    "Learn pivot table by category\n",
    "Pd.cut for \"Bin values into discrete intervals.\"\n",
    "\n",
    "table = pd.pivot_table(df, values=['D'], index=['Budget Per Student'],\n",
    "                    columns=['Average Math Score', 'Average Reading Score', '% Passing Math', '% Passing Reading', '% Overall Passing'], aggfunc=np.sum)\n",
    "\n",
    "df['Spending Ranges (Per Student)'] = pd.cut(df['Budget Per Student'], [0,585,630,645,680], labels=['>585','585-630','630-645','645-680'])\n",
    "df.sort_values(['Spending Ranges (Per Student)','Budget Per Student'], ascending=[True, True], inplace=True)\n",
    "df.set_index(['Spending Ranges (Per Student)','school_name'],inplace=True)\n",
    "\"\"\"\n",
    "\"\"\"\n",
    "Implementation with correct column names\n",
    "scores_by_spending = school_summary\n",
    "\n",
    "scores_by_spending['bin'] = pd.cut(df['Budget Per Student'], [0,585,630,645,680], labels=['>585','585-630','630-645','645-680'])\n",
    "table = pd.pivot_table(df, values=['school_name'], index=['Budget Per Student'],\n",
    "                    columns=['Average Math Score', 'Average Reading Score', '% Passing Math', '% Passing Reading', '% Overall Passing'], aggfunc=np.sum)\n",
    "print(table)\"\"\"\n",
    "scores_by_spending = school_summary\n",
    "\n",
    "#scores_by_spending['bin'] = pd.cut(scores_by_spending['Budget Per Student'], [0,585,630,645,680], labels=['>585','585-630','630-645','645-680'])\n",
    "table = pd.pivot_table(scores_by_spending, values=['school_name'], index=['Budget Per Student'],\n",
    "                    columns=['math_score', 'reading_score', '% Passing Math', '% Passing Reading', '% Passing Overall'])\n",
    "print(table)\n"
   ]
  },
  {
   "cell_type": "markdown",
   "metadata": {},
   "source": [
    "## Scores by School Size"
   ]
  },
  {
   "cell_type": "markdown",
   "metadata": {},
   "source": [
    "* Perform the same operations as above, based on school size."
   ]
  },
  {
   "cell_type": "code",
   "execution_count": 22,
   "metadata": {
    "scrolled": true
   },
   "outputs": [
    {
     "data": {
      "text/html": [
       "<div>\n",
       "<style scoped>\n",
       "    .dataframe tbody tr th:only-of-type {\n",
       "        vertical-align: middle;\n",
       "    }\n",
       "\n",
       "    .dataframe tbody tr th {\n",
       "        vertical-align: top;\n",
       "    }\n",
       "\n",
       "    .dataframe thead th {\n",
       "        text-align: right;\n",
       "    }\n",
       "</style>\n",
       "<table border=\"1\" class=\"dataframe\">\n",
       "  <thead>\n",
       "    <tr style=\"text-align: right;\">\n",
       "      <th></th>\n",
       "      <th>Average Math Score</th>\n",
       "      <th>Average Reading Score</th>\n",
       "      <th>% Passing Math</th>\n",
       "      <th>% Passing Reading</th>\n",
       "      <th>% Overall Passing</th>\n",
       "    </tr>\n",
       "    <tr>\n",
       "      <th>School Size</th>\n",
       "      <th></th>\n",
       "      <th></th>\n",
       "      <th></th>\n",
       "      <th></th>\n",
       "      <th></th>\n",
       "    </tr>\n",
       "  </thead>\n",
       "  <tbody>\n",
       "    <tr>\n",
       "      <th>Small (&lt;1000)</th>\n",
       "      <td>83.821598</td>\n",
       "      <td>83.929843</td>\n",
       "      <td>93.550225</td>\n",
       "      <td>96.099437</td>\n",
       "      <td>89.883853</td>\n",
       "    </tr>\n",
       "    <tr>\n",
       "      <th>Medium (1000-2000)</th>\n",
       "      <td>83.374684</td>\n",
       "      <td>83.864438</td>\n",
       "      <td>93.599695</td>\n",
       "      <td>96.790680</td>\n",
       "      <td>90.621535</td>\n",
       "    </tr>\n",
       "    <tr>\n",
       "      <th>Large (2000-5000)</th>\n",
       "      <td>77.746417</td>\n",
       "      <td>81.344493</td>\n",
       "      <td>69.963361</td>\n",
       "      <td>82.766634</td>\n",
       "      <td>58.286003</td>\n",
       "    </tr>\n",
       "  </tbody>\n",
       "</table>\n",
       "</div>"
      ],
      "text/plain": [
       "                    Average Math Score  Average Reading Score  % Passing Math  \\\n",
       "School Size                                                                     \n",
       "Small (<1000)                83.821598              83.929843       93.550225   \n",
       "Medium (1000-2000)           83.374684              83.864438       93.599695   \n",
       "Large (2000-5000)            77.746417              81.344493       69.963361   \n",
       "\n",
       "                    % Passing Reading  % Overall Passing  \n",
       "School Size                                               \n",
       "Small (<1000)               96.099437          89.883853  \n",
       "Medium (1000-2000)          96.790680          90.621535  \n",
       "Large (2000-5000)           82.766634          58.286003  "
      ]
     },
     "execution_count": 22,
     "metadata": {},
     "output_type": "execute_result"
    }
   ],
   "source": []
  },
  {
   "cell_type": "markdown",
   "metadata": {},
   "source": [
    "## Scores by School Type"
   ]
  },
  {
   "cell_type": "markdown",
   "metadata": {},
   "source": [
    "* Perform the same operations as above, based on school type"
   ]
  },
  {
   "cell_type": "code",
   "execution_count": 24,
   "metadata": {},
   "outputs": [
    {
     "data": {
      "text/html": [
       "<div>\n",
       "<style scoped>\n",
       "    .dataframe tbody tr th:only-of-type {\n",
       "        vertical-align: middle;\n",
       "    }\n",
       "\n",
       "    .dataframe tbody tr th {\n",
       "        vertical-align: top;\n",
       "    }\n",
       "\n",
       "    .dataframe thead th {\n",
       "        text-align: right;\n",
       "    }\n",
       "</style>\n",
       "<table border=\"1\" class=\"dataframe\">\n",
       "  <thead>\n",
       "    <tr style=\"text-align: right;\">\n",
       "      <th></th>\n",
       "      <th>Average Math Score</th>\n",
       "      <th>Average Reading Score</th>\n",
       "      <th>% Passing Math</th>\n",
       "      <th>% Passing Reading</th>\n",
       "      <th>% Overall Passing</th>\n",
       "    </tr>\n",
       "    <tr>\n",
       "      <th>School Type</th>\n",
       "      <th></th>\n",
       "      <th></th>\n",
       "      <th></th>\n",
       "      <th></th>\n",
       "      <th></th>\n",
       "    </tr>\n",
       "  </thead>\n",
       "  <tbody>\n",
       "    <tr>\n",
       "      <th>Charter</th>\n",
       "      <td>83.473852</td>\n",
       "      <td>83.896421</td>\n",
       "      <td>93.620830</td>\n",
       "      <td>96.586489</td>\n",
       "      <td>90.432244</td>\n",
       "    </tr>\n",
       "    <tr>\n",
       "      <th>District</th>\n",
       "      <td>76.956733</td>\n",
       "      <td>80.966636</td>\n",
       "      <td>66.548453</td>\n",
       "      <td>80.799062</td>\n",
       "      <td>53.672208</td>\n",
       "    </tr>\n",
       "  </tbody>\n",
       "</table>\n",
       "</div>"
      ],
      "text/plain": [
       "             Average Math Score  Average Reading Score  % Passing Math  \\\n",
       "School Type                                                              \n",
       "Charter               83.473852              83.896421       93.620830   \n",
       "District              76.956733              80.966636       66.548453   \n",
       "\n",
       "             % Passing Reading  % Overall Passing  \n",
       "School Type                                        \n",
       "Charter              96.586489          90.432244  \n",
       "District             80.799062          53.672208  "
      ]
     },
     "execution_count": 24,
     "metadata": {},
     "output_type": "execute_result"
    }
   ],
   "source": []
  },
  {
   "cell_type": "code",
   "execution_count": null,
   "metadata": {},
   "outputs": [],
   "source": []
  }
 ],
 "metadata": {
  "anaconda-cloud": {},
  "kernel_info": {
   "name": "python3"
  },
  "kernelspec": {
   "display_name": "Python 3 (ipykernel)",
   "language": "python",
   "name": "python3"
  },
  "language_info": {
   "codemirror_mode": {
    "name": "ipython",
    "version": 3
   },
   "file_extension": ".py",
   "mimetype": "text/x-python",
   "name": "python",
   "nbconvert_exporter": "python",
   "pygments_lexer": "ipython3",
   "version": "3.9.7"
  },
  "latex_envs": {
   "LaTeX_envs_menu_present": true,
   "autoclose": false,
   "autocomplete": true,
   "bibliofile": "biblio.bib",
   "cite_by": "apalike",
   "current_citInitial": 1,
   "eqLabelWithNumbers": true,
   "eqNumInitial": 1,
   "hotkeys": {
    "equation": "Ctrl-E",
    "itemize": "Ctrl-I"
   },
   "labels_anchors": false,
   "latex_user_defs": false,
   "report_style_numbering": false,
   "user_envs_cfg": false
  },
  "nteract": {
   "version": "0.8.4"
  }
 },
 "nbformat": 4,
 "nbformat_minor": 4
}
