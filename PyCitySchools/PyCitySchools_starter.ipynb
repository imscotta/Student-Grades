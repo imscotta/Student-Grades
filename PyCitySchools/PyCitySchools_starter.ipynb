{
 "cells": [
  {
   "cell_type": "markdown",
   "metadata": {},
   "source": [
    "### Note\n",
    "* Instructions have been included for each segment. You do not have to follow them exactly, but they are included to help you think through the steps."
   ]
  },
  {
   "cell_type": "code",
   "execution_count": 109,
   "metadata": {},
   "outputs": [
    {
     "name": "stdout",
     "output_type": "stream",
     "text": [
      "    School ID            school_name      type  size   budget\n",
      "0           0      Huang High School  District  2917  1910635\n",
      "1           1   Figueroa High School  District  2949  1884411\n",
      "2           2    Shelton High School   Charter  1761  1056600\n",
      "3           3  Hernandez High School  District  4635  3022020\n",
      "4           4    Griffin High School   Charter  1468   917500\n",
      "5           5     Wilson High School   Charter  2283  1319574\n",
      "6           6    Cabrera High School   Charter  1858  1081356\n",
      "7           7     Bailey High School  District  4976  3124928\n",
      "8           8     Holden High School   Charter   427   248087\n",
      "9           9       Pena High School   Charter   962   585858\n",
      "10         10     Wright High School   Charter  1800  1049400\n",
      "11         11  Rodriguez High School  District  3999  2547363\n",
      "12         12    Johnson High School  District  4761  3094650\n",
      "13         13       Ford High School  District  2739  1763916\n",
      "14         14     Thomas High School   Charter  1635  1043130\n"
     ]
    }
   ],
   "source": [
    "# Dependencies and Setup\n",
    "import pandas as pd\n",
    "\n",
    "# File to Load (Remember to Change These)\n",
    "school_data_to_load = \"Resources/schools_complete.csv\"\n",
    "student_data_to_load = \"Resources/students_complete.csv\"\n",
    "\n",
    "# Read School and Student Data File and store into Pandas DataFrames\n",
    "school_data = pd.read_csv(school_data_to_load)\n",
    "student_data = pd.read_csv(student_data_to_load)\n",
    "# Combine the data into a single dataset.  \n",
    "school_data_complete = pd.merge(student_data, school_data, how=\"left\", on=[\"school_name\", \"school_name\"])"
   ]
  },
  {
   "cell_type": "markdown",
   "metadata": {},
   "source": [
    "## District Summary\n",
    "\n",
    "* Calculate the total number of schools\n",
    "\n",
    "* Calculate the total number of students\n",
    "\n",
    "* Calculate the total budget\n",
    "\n",
    "* Calculate the average math score \n",
    "\n",
    "* Calculate the average reading score\n",
    "\n",
    "* Calculate the percentage of students with a passing math score (70 or greater)\n",
    "\n",
    "* Calculate the percentage of students with a passing reading score (70 or greater)\n",
    "\n",
    "* Calculate the percentage of students who passed math **and** reading (% Overall Passing)\n",
    "\n",
    "* Create a dataframe to hold the above results\n",
    "\n",
    "* Optional: give the displayed data cleaner formatting"
   ]
  },
  {
   "cell_type": "code",
   "execution_count": 113,
   "metadata": {},
   "outputs": [
    {
     "name": "stdout",
     "output_type": "stream",
     "text": [
      "Total Schools: 15\n",
      "Total Students: 39170\n",
      "Total Budget: $24649428\n",
      "Average Math Score: 78.99\n",
      "Average Reading Score: 81.88\n",
      "Passing Math Scores: 75%\n",
      "Passing Reading Scores: 86%\n",
      "Passing Overall Scores: 65%\n",
      "Passing Students:\n",
      "       Student ID     student_name gender grade         school_name  \\\n",
      "4               4       Bonnie Ray      F   9th   Huang High School   \n",
      "5               5    Bryan Miranda      M   9th   Huang High School   \n",
      "6               6    Sheena Carter      F  11th   Huang High School   \n",
      "8               8     Michael Roth      M  10th   Huang High School   \n",
      "9               9   Matthew Greene      M  10th   Huang High School   \n",
      "...           ...              ...    ...   ...                 ...   \n",
      "39165       39165     Donna Howard      F  12th  Thomas High School   \n",
      "39166       39166        Dawn Bell      F  10th  Thomas High School   \n",
      "39167       39167   Rebecca Tanner      F   9th  Thomas High School   \n",
      "39168       39168     Desiree Kidd      F  10th  Thomas High School   \n",
      "39169       39169  Carolyn Jackson      F  11th  Thomas High School   \n",
      "\n",
      "       reading_score  math_score  \n",
      "4                 97          84  \n",
      "5                 94          94  \n",
      "6                 82          80  \n",
      "8                 95          87  \n",
      "9                 96          84  \n",
      "...              ...         ...  \n",
      "39165             99          90  \n",
      "39166             95          70  \n",
      "39167             73          84  \n",
      "39168             99          90  \n",
      "39169             95          75  \n",
      "\n",
      "[25528 rows x 7 columns]\n"
     ]
    }
   ],
   "source": [
    "school_count = len(school_data)\n",
    "print(\"Total Schools: \" + str(school_count))\n",
    "\n",
    "total_students = school_data[\"size\"].sum()\n",
    "print(\"Total Students: \" + str(total_students))\n",
    "\n",
    "total_budget = school_data[\"budget\"].sum()\n",
    "print(\"Total Budget: $\" + str(total_budget))\n",
    "\n",
    "average_math_score = student_data[\"math_score\"].mean()\n",
    "print(\"Average Math Score: \" + str(round(average_math_score,2)))\n",
    "\n",
    "average_reading_score = student_data[\"reading_score\"].mean()\n",
    "print(\"Average Reading Score: \" + str(round(average_reading_score,2)))\n",
    "\n",
    "passing_math_total = len(student_data[student_data[\"math_score\"] >= 70])\n",
    "passing_math_percentage = passing_math_total / len(student_data)\n",
    "print(\"Passing Math Scores: {0:.0%}\".format(passing_math_percentage))\n",
    "\n",
    "passing_reading_total = len(student_data[student_data[\"reading_score\"] >= 70])\n",
    "passing_reading_percentage = passing_reading_total / len(student_data)\n",
    "print(\"Passing Reading Scores: {0:.0%}\".format(passing_reading_percentage))\n",
    "\n",
    "overall_passing_total = len(student_data[(student_data[\"math_score\"] >= 70) & (student_data[\"reading_score\"] >= 70)])\n",
    "overall_passing_percentage = overall_passing_total / len(student_data)\n",
    "print(\"Passing Overall Scores: {0:.0%}\".format(overall_passing_percentage))\n",
    "\n",
    "overall_passing = student_data[(student_data[\"math_score\"] >= 70) & (student_data[\"reading_score\"] >= 70)]\n",
    "\n",
    "df = pd.DataFrame(overall_passing)\n",
    "\n",
    "print(\"Passing Students:\")\n",
    "\n",
    "\"\"\"\n",
    "\n",
    "To Do\n",
    "    Rename column names: Average Reading Score, Average Math Score, Total Students\n",
    "\n",
    "\"\"\"\n",
    "\n",
    "\n",
    "print(df)\n"
   ]
  },
  {
   "cell_type": "markdown",
   "metadata": {},
   "source": [
    "## School Summary"
   ]
  },
  {
   "cell_type": "markdown",
   "metadata": {},
   "source": [
    "* Create an overview table that summarizes key metrics about each school, including:\n",
    "  * School Name\n",
    "  * School Type\n",
    "  * Total Students\n",
    "  * Total School Budget\n",
    "  * Per Student Budget\n",
    "  * Average Math Score\n",
    "  * Average Reading Score\n",
    "  * % Passing Math\n",
    "  * % Passing Reading\n",
    "  * % Overall Passing (The percentage of students that passed math **and** reading.)\n",
    "  \n",
    "* Create a dataframe to hold the above results"
   ]
  },
  {
   "cell_type": "code",
   "execution_count": 250,
   "metadata": {},
   "outputs": [
    {
     "name": "stdout",
     "output_type": "stream",
     "text": [
      "    School ID            school_name      type  size   budget  \\\n",
      "0           0      Huang High School  District  2917  1910635   \n",
      "1           1   Figueroa High School  District  2949  1884411   \n",
      "2           2    Shelton High School   Charter  1761  1056600   \n",
      "3           3  Hernandez High School  District  4635  3022020   \n",
      "4           4    Griffin High School   Charter  1468   917500   \n",
      "5           5     Wilson High School   Charter  2283  1319574   \n",
      "6           6    Cabrera High School   Charter  1858  1081356   \n",
      "7           7     Bailey High School  District  4976  3124928   \n",
      "8           8     Holden High School   Charter   427   248087   \n",
      "9           9       Pena High School   Charter   962   585858   \n",
      "10         10     Wright High School   Charter  1800  1049400   \n",
      "11         11  Rodriguez High School  District  3999  2547363   \n",
      "12         12    Johnson High School  District  4761  3094650   \n",
      "13         13       Ford High School  District  2739  1763916   \n",
      "14         14     Thomas High School   Charter  1635  1043130   \n",
      "\n",
      "    Budget Per Student  Average Reading Score  Average Math Score  \\\n",
      "0                655.0                  81.18               76.63   \n",
      "1                639.0                  81.16               76.71   \n",
      "2                600.0                  83.73               83.36   \n",
      "3                652.0                  80.93               77.29   \n",
      "4                625.0                  83.82               83.35   \n",
      "5                578.0                  83.99               83.27   \n",
      "6                582.0                  83.98               83.06   \n",
      "7                628.0                  81.03               77.05   \n",
      "8                581.0                  83.81               83.80   \n",
      "9                609.0                  84.04               83.84   \n",
      "10               583.0                  83.96               83.68   \n",
      "11               637.0                  80.74               76.84   \n",
      "12               650.0                  80.97               77.07   \n",
      "13               644.0                  80.75               77.10   \n",
      "14               638.0                  83.85               83.42   \n",
      "\n",
      "    % Passing Reading  % Passing Math  % Passing Overall  \n",
      "0               78.81           63.32              49.91  \n",
      "1               78.43           63.75              49.92  \n",
      "2               92.62           89.89              83.19  \n",
      "3               78.19           64.75              50.16  \n",
      "4               93.39           89.71              83.65  \n",
      "5               93.25           90.93              84.89  \n",
      "6               93.86           89.56              84.02  \n",
      "7               79.30           64.63              51.15  \n",
      "8               92.74           90.63              84.07  \n",
      "9               92.20           91.68              84.82  \n",
      "10              93.44           90.28              84.44  \n",
      "11              77.74           64.07              49.44  \n",
      "12              78.28           63.85              49.80  \n",
      "13              77.51           65.75              51.30  \n",
      "14              92.91           90.21              84.28  \n"
     ]
    }
   ],
   "source": [
    "#print(school_data_complete)\n",
    "#print(student_data)\n",
    "#print(school_data)\n",
    "\n",
    "#School name, type, total students\n",
    "school_summary = school_data\n",
    "\n",
    "#Per Student Budget\n",
    "budget_per_student = school_summary['budget'] / school_summary['size']\n",
    "school_summary['Budget Per Student'] = budget_per_student\n",
    "\n",
    "#Average Math and Reading Score\n",
    "schools_average_scores = school_data_complete.groupby(['school_name']).mean()\n",
    "#print(schools_average_scores)\n",
    "school_summary = pd.merge(school_summary, schools_average_scores[['reading_score', 'math_score']], on=['school_name'])\n",
    "school_summary['reading_score'] = round(school_summary['reading_score'],2)\n",
    "school_summary['math_score'] = round(school_summary['math_score'],2)\n",
    "\n",
    "#print(school_summary)\n",
    "\n",
    "#Passing Scores\n",
    "#Reading\n",
    "reading_passing_school = school_data_complete[school_data_complete['reading_score'] > 70]\n",
    "reading_passing_totals = reading_passing_school.groupby(['school_name']).size()\n",
    "school_summary = pd.merge(school_summary, reading_passing_totals.to_frame(), on=['school_name'])\n",
    "pass_reading = school_summary[0] / school_summary['size']\n",
    "school_summary['% Passing Reading'] = round(pass_reading*100, 2)\n",
    "school_summary = school_summary.drop(columns = [0])\n",
    "#print(school_summary)\n",
    "\n",
    "#Math\n",
    "math_passing_school = school_data_complete[school_data_complete['math_score'] > 70]\n",
    "math_passing_totals = math_passing_school.groupby(['school_name']).size()\n",
    "school_summary = pd.merge(school_summary, math_passing_totals.to_frame(), on=['school_name'])\n",
    "#print(math_passing_totals)\n",
    "#print(school_summary)\n",
    "pass_math = school_summary[0] / school_summary['size']\n",
    "school_summary['% Passing Math'] = round(pass_math*100, 2)\n",
    "school_summary = school_summary.drop(columns = [0])\n",
    "#print(school_summary)\n",
    "\n",
    "#Overall\n",
    "overall_passing_school = school_data_complete[(school_data_complete['reading_score'] > 70) & (school_data_complete['math_score'] > 70)]\n",
    "overall_passing_totals = overall_passing_school.groupby(['school_name']).size()\n",
    "school_summary = pd.merge(school_summary, overall_passing_totals.to_frame(), on=['school_name'])\n",
    "#print(overall_passing_totals)\n",
    "#print(school_summary)\n",
    "pass_overall = school_summary[0] / school_summary['size']\n",
    "school_summary['% Passing Overall'] = round(pass_overall*100, 2)\n",
    "school_summary = school_summary.drop(columns = [0])\n",
    "\n",
    "school_summary = school_summary.rename(columns={'reading_score':'Average Reading Score','math_score':'Average Math Score'})\n",
    "print(school_summary)\n"
   ]
  },
  {
   "cell_type": "markdown",
   "metadata": {},
   "source": [
    "## Top Performing Schools (By % Overall Passing)"
   ]
  },
  {
   "cell_type": "markdown",
   "metadata": {},
   "source": [
    "* Sort and display the top five performing schools by % overall passing."
   ]
  },
  {
   "cell_type": "code",
   "execution_count": 238,
   "metadata": {
    "scrolled": true
   },
   "outputs": [
    {
     "name": "stdout",
     "output_type": "stream",
     "text": [
      "    School ID         school_name     type  size   budget  Budget Per Student  \\\n",
      "5           5  Wilson High School  Charter  2283  1319574               578.0   \n",
      "9           9    Pena High School  Charter   962   585858               609.0   \n",
      "10         10  Wright High School  Charter  1800  1049400               583.0   \n",
      "14         14  Thomas High School  Charter  1635  1043130               638.0   \n",
      "8           8  Holden High School  Charter   427   248087               581.0   \n",
      "\n",
      "    reading_score  math_score  % Passing Reading  % Passing Math  \\\n",
      "5       83.989488   83.274201              93.25           90.93   \n",
      "9       84.044699   83.839917              92.20           91.68   \n",
      "10      83.955000   83.682222              93.44           90.28   \n",
      "14      83.848930   83.418349              92.91           90.21   \n",
      "8       83.814988   83.803279              92.74           90.63   \n",
      "\n",
      "    % Passing Overall  \n",
      "5               84.89  \n",
      "9               84.82  \n",
      "10              84.44  \n",
      "14              84.28  \n",
      "8               84.07  \n"
     ]
    }
   ],
   "source": [
    "top_performers = school_summary.sort_values(by=\"% Passing Overall\", ascending=False)\n",
    "print(top_performers.head())"
   ]
  },
  {
   "cell_type": "markdown",
   "metadata": {},
   "source": [
    "## Bottom Performing Schools (By % Overall Passing)"
   ]
  },
  {
   "cell_type": "markdown",
   "metadata": {},
   "source": [
    "* Sort and display the five worst-performing schools by % overall passing."
   ]
  },
  {
   "cell_type": "code",
   "execution_count": 239,
   "metadata": {},
   "outputs": [
    {
     "name": "stdout",
     "output_type": "stream",
     "text": [
      "    School ID            school_name      type  size   budget  \\\n",
      "3           3  Hernandez High School  District  4635  3022020   \n",
      "1           1   Figueroa High School  District  2949  1884411   \n",
      "0           0      Huang High School  District  2917  1910635   \n",
      "12         12    Johnson High School  District  4761  3094650   \n",
      "11         11  Rodriguez High School  District  3999  2547363   \n",
      "\n",
      "    Budget Per Student  reading_score  math_score  % Passing Reading  \\\n",
      "3                652.0      80.934412   77.289752              78.19   \n",
      "1                639.0      81.158020   76.711767              78.43   \n",
      "0                655.0      81.182722   76.629414              78.81   \n",
      "12               650.0      80.966394   77.072464              78.28   \n",
      "11               637.0      80.744686   76.842711              77.74   \n",
      "\n",
      "    % Passing Math  % Passing Overall  \n",
      "3            64.75              50.16  \n",
      "1            63.75              49.92  \n",
      "0            63.32              49.91  \n",
      "12           63.85              49.80  \n",
      "11           64.07              49.44  \n"
     ]
    }
   ],
   "source": [
    "worst_performers = school_summary.sort_values(by=\"% Passing Overall\", ascending=False)\n",
    "print(top_performers.tail())"
   ]
  },
  {
   "cell_type": "markdown",
   "metadata": {},
   "source": [
    "## Math Scores by Grade"
   ]
  },
  {
   "cell_type": "markdown",
   "metadata": {},
   "source": [
    "* Create a table that lists the average Reading Score for students of each grade level (9th, 10th, 11th, 12th) at each school.\n",
    "\n",
    "  * Create a pandas series for each grade. Hint: use a conditional statement.\n",
    "  \n",
    "  * Group each series by school\n",
    "  \n",
    "  * Combine the series into a dataframe\n",
    "  \n",
    "  * Optional: give the displayed data cleaner formatting"
   ]
  },
  {
   "cell_type": "code",
   "execution_count": 191,
   "metadata": {},
   "outputs": [
    {
     "name": "stdout",
     "output_type": "stream",
     "text": [
      "                             math_score\n",
      "school_name           grade            \n",
      "Bailey High School    10th    76.996772\n",
      "                      11th    77.515588\n",
      "                      12th    76.492218\n",
      "                      9th     77.083676\n",
      "Cabrera High School   10th    83.154506\n",
      "                      11th    82.765560\n",
      "                      12th    83.277487\n",
      "                      9th     83.094697\n",
      "Figueroa High School  10th    76.539974\n",
      "                      11th    76.884344\n",
      "                      12th    77.151369\n",
      "                      9th     76.403037\n",
      "Ford High School      10th    77.672316\n",
      "                      11th    76.918058\n",
      "                      12th    76.179963\n",
      "                      9th     77.361345\n",
      "Griffin High School   10th    84.229064\n",
      "                      11th    83.842105\n",
      "                      12th    83.356164\n",
      "                      9th     82.044010\n",
      "Hernandez High School 10th    77.337408\n",
      "                      11th    77.136029\n",
      "                      12th    77.186567\n",
      "                      9th     77.438495\n",
      "Holden High School    10th    83.429825\n",
      "                      11th    85.000000\n",
      "                      12th    82.855422\n",
      "                      9th     83.787402\n",
      "Huang High School     10th    75.908735\n",
      "                      11th    76.446602\n",
      "                      12th    77.225641\n",
      "                      9th     77.027251\n",
      "Johnson High School   10th    76.691117\n",
      "                      11th    77.491653\n",
      "                      12th    76.863248\n",
      "                      9th     77.187857\n",
      "Pena High School      10th    83.372000\n",
      "                      11th    84.328125\n",
      "                      12th    84.121547\n",
      "                      9th     83.625455\n",
      "Rodriguez High School 10th    76.612500\n",
      "                      11th    76.395626\n",
      "                      12th    77.690748\n",
      "                      9th     76.859966\n",
      "Shelton High School   10th    82.917411\n",
      "                      11th    83.383495\n",
      "                      12th    83.778976\n",
      "                      9th     83.420755\n",
      "Thomas High School    10th    83.087886\n",
      "                      11th    83.498795\n",
      "                      12th    83.497041\n",
      "                      9th     83.590022\n",
      "Wilson High School    10th    83.724422\n",
      "                      11th    83.195326\n",
      "                      12th    83.035794\n",
      "                      9th     83.085578\n",
      "Wright High School    10th    84.010288\n",
      "                      11th    83.836782\n",
      "                      12th    83.644986\n",
      "                      9th     83.264706\n"
     ]
    }
   ],
   "source": [
    "#print(student_data)\n",
    "\"\"\"\n",
    "\n",
    "To Do\n",
    "Sort values by grade\n",
    "\n",
    "\"\"\"\n",
    "\n",
    "math_scores_by_grade = student_data[['school_name', 'grade', 'math_score']].groupby(['school_name', 'grade']).mean()\n",
    "print(math_scores_by_grade)\n"
   ]
  },
  {
   "cell_type": "markdown",
   "metadata": {},
   "source": [
    "## Reading Score by Grade "
   ]
  },
  {
   "cell_type": "markdown",
   "metadata": {},
   "source": [
    "* Perform the same operations as above for reading scores"
   ]
  },
  {
   "cell_type": "code",
   "execution_count": 192,
   "metadata": {},
   "outputs": [
    {
     "name": "stdout",
     "output_type": "stream",
     "text": [
      "                             reading_score\n",
      "school_name           grade               \n",
      "Bailey High School    10th       80.907183\n",
      "                      11th       80.945643\n",
      "                      12th       80.912451\n",
      "                      9th        81.303155\n",
      "Cabrera High School   10th       84.253219\n",
      "                      11th       83.788382\n",
      "                      12th       84.287958\n",
      "                      9th        83.676136\n",
      "Figueroa High School  10th       81.408912\n",
      "                      11th       80.640339\n",
      "                      12th       81.384863\n",
      "                      9th        81.198598\n",
      "Ford High School      10th       81.262712\n",
      "                      11th       80.403642\n",
      "                      12th       80.662338\n",
      "                      9th        80.632653\n",
      "Griffin High School   10th       83.706897\n",
      "                      11th       84.288089\n",
      "                      12th       84.013699\n",
      "                      9th        83.369193\n",
      "Hernandez High School 10th       80.660147\n",
      "                      11th       81.396140\n",
      "                      12th       80.857143\n",
      "                      9th        80.866860\n",
      "Holden High School    10th       83.324561\n",
      "                      11th       83.815534\n",
      "                      12th       84.698795\n",
      "                      9th        83.677165\n",
      "Huang High School     10th       81.512386\n",
      "                      11th       81.417476\n",
      "                      12th       80.305983\n",
      "                      9th        81.290284\n",
      "Johnson High School   10th       80.773431\n",
      "                      11th       80.616027\n",
      "                      12th       81.227564\n",
      "                      9th        81.260714\n",
      "Pena High School      10th       83.612000\n",
      "                      11th       84.335938\n",
      "                      12th       84.591160\n",
      "                      9th        83.807273\n",
      "Rodriguez High School 10th       80.629808\n",
      "                      11th       80.864811\n",
      "                      12th       80.376426\n",
      "                      9th        80.993127\n",
      "Shelton High School   10th       83.441964\n",
      "                      11th       84.373786\n",
      "                      12th       82.781671\n",
      "                      9th        84.122642\n",
      "Thomas High School    10th       84.254157\n",
      "                      11th       83.585542\n",
      "                      12th       83.831361\n",
      "                      9th        83.728850\n",
      "Wilson High School    10th       84.021452\n",
      "                      11th       83.764608\n",
      "                      12th       84.317673\n",
      "                      9th        83.939778\n",
      "Wright High School    10th       83.812757\n",
      "                      11th       84.156322\n",
      "                      12th       84.073171\n",
      "                      9th        83.833333\n"
     ]
    }
   ],
   "source": [
    "reading_scores_by_grade = student_data[['school_name', 'grade', 'reading_score']].groupby(['school_name', 'grade']).mean()\n",
    "print(reading_scores_by_grade)"
   ]
  },
  {
   "cell_type": "markdown",
   "metadata": {},
   "source": [
    "## Scores by School Spending"
   ]
  },
  {
   "cell_type": "markdown",
   "metadata": {},
   "source": [
    "* Create a table that breaks down school performances based on average Spending Ranges (Per Student). Use 4 reasonable bins to group school spending. Include in the table each of the following:\n",
    "  * Average Math Score\n",
    "  * Average Reading Score\n",
    "  * % Passing Math\n",
    "  * % Passing Reading\n",
    "  * Overall Passing Rate (Average of the above two)"
   ]
  },
  {
   "cell_type": "code",
   "execution_count": 251,
   "metadata": {},
   "outputs": [
    {
     "name": "stdout",
     "output_type": "stream",
     "text": [
      "              % Passing Math  % Passing Overall  % Passing Reading  \\\n",
      "scores_table                                                         \n",
      ">585               90.350000          84.355000          93.322500   \n",
      "585-630            83.977500          75.702500          89.377500   \n",
      "630-645            70.945000          58.735000          81.647500   \n",
      "645-680            63.973333          49.956667          78.426667   \n",
      "\n",
      "              Average Math Score  Average Reading Score  \n",
      "scores_table                                             \n",
      ">585                   83.452500              83.935000  \n",
      "585-630                81.900000              83.155000  \n",
      "630-645                78.517500              81.625000  \n",
      "645-680                76.996667              81.026667  \n"
     ]
    }
   ],
   "source": [
    "\"\"\"To Do\n",
    "\n",
    "Round Scores\n",
    "\n",
    "\"\"\"\n",
    "\n",
    "scores_by_spending = school_summary\n",
    "scores_by_spending = scores_by_spending.assign(scores_table = pd.cut(scores_by_spending['Budget Per Student'], [0,585,630,645,680], labels=['>585','585-630','630-645','645-680']))\n",
    "school_spending_table = pd.pivot_table(scores_by_spending, values=['Average Math Score', 'Average Reading Score', '% Passing Math', '% Passing Reading', '% Passing Overall'], index=\"scores_table\")\n",
    "print(school_spending_table)\n"
   ]
  },
  {
   "cell_type": "markdown",
   "metadata": {},
   "source": [
    "## Scores by School Size"
   ]
  },
  {
   "cell_type": "markdown",
   "metadata": {},
   "source": [
    "* Perform the same operations as above, based on school size."
   ]
  },
  {
   "cell_type": "code",
   "execution_count": 252,
   "metadata": {
    "scrolled": true
   },
   "outputs": [
    {
     "name": "stdout",
     "output_type": "stream",
     "text": [
      "                    % Passing Math  % Passing Overall  % Passing Reading  \\\n",
      "size_table                                                                 \n",
      "Small (<1000)             91.15500           84.44500           92.47000   \n",
      "Medium (1000-2000)        89.93000           83.91600           93.24400   \n",
      "Large (2000-5000)         67.63125           54.57125           80.18875   \n",
      "\n",
      "                    Average Math Score  Average Reading Score  \n",
      "size_table                                                     \n",
      "Small (<1000)                   83.820               83.92500  \n",
      "Medium (1000-2000)              83.374               83.86800  \n",
      "Large (2000-5000)               77.745               81.34375  \n"
     ]
    }
   ],
   "source": [
    "scores_by_size = school_summary\n",
    "scores_by_size = scores_by_spending.assign(size_table = pd.cut(scores_by_size['size'], [0,1000,2000,5000], labels=['Small (<1000)','Medium (1000-2000)','Large (2000-5000)']))\n",
    "school_size_table = pd.pivot_table(scores_by_size, values=['Average Math Score', 'Average Reading Score', '% Passing Math', '% Passing Reading', '% Passing Overall'], index=\"size_table\")\n",
    "print(school_size_table)"
   ]
  },
  {
   "cell_type": "markdown",
   "metadata": {},
   "source": [
    "## Scores by School Type"
   ]
  },
  {
   "cell_type": "markdown",
   "metadata": {},
   "source": [
    "* Perform the same operations as above, based on school type"
   ]
  },
  {
   "cell_type": "code",
   "execution_count": 221,
   "metadata": {},
   "outputs": [
    {
     "name": "stdout",
     "output_type": "stream",
     "text": [
      "          % Passing Math  % Passing Overall  % Passing Reading  math_score  \\\n",
      "type                                                                         \n",
      "Charter         0.903632           0.841712           0.930528   83.473852   \n",
      "District        0.643025           0.502387           0.783246   76.956733   \n",
      "\n",
      "          reading_score  \n",
      "type                     \n",
      "Charter       83.896421  \n",
      "District      80.966636  \n"
     ]
    }
   ],
   "source": [
    "scores_by_type = school_summary\n",
    "school_type_table = pd.pivot_table(scores_by_type, values=['math_score', 'reading_score', '% Passing Math', '% Passing Reading', '% Passing Overall'], index=\"type\")\n",
    "print(school_type_table)"
   ]
  },
  {
   "cell_type": "code",
   "execution_count": null,
   "metadata": {},
   "outputs": [],
   "source": []
  }
 ],
 "metadata": {
  "anaconda-cloud": {},
  "kernel_info": {
   "name": "python3"
  },
  "kernelspec": {
   "display_name": "Python 3 (ipykernel)",
   "language": "python",
   "name": "python3"
  },
  "language_info": {
   "codemirror_mode": {
    "name": "ipython",
    "version": 3
   },
   "file_extension": ".py",
   "mimetype": "text/x-python",
   "name": "python",
   "nbconvert_exporter": "python",
   "pygments_lexer": "ipython3",
   "version": "3.9.7"
  },
  "latex_envs": {
   "LaTeX_envs_menu_present": true,
   "autoclose": false,
   "autocomplete": true,
   "bibliofile": "biblio.bib",
   "cite_by": "apalike",
   "current_citInitial": 1,
   "eqLabelWithNumbers": true,
   "eqNumInitial": 1,
   "hotkeys": {
    "equation": "Ctrl-E",
    "itemize": "Ctrl-I"
   },
   "labels_anchors": false,
   "latex_user_defs": false,
   "report_style_numbering": false,
   "user_envs_cfg": false
  },
  "nteract": {
   "version": "0.8.4"
  }
 },
 "nbformat": 4,
 "nbformat_minor": 4
}
