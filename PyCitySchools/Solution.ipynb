{
 "cells": [
  {
   "cell_type": "markdown",
   "id": "450d5f2a-63a1-4102-9e69-9d4505ea8e8f",
   "metadata": {},
   "source": [
    "Welcome to my solution. To begin with I have set up my development environment as follows."
   ]
  },
  {
   "cell_type": "code",
   "execution_count": null,
   "id": "3e737118-ee64-4bf1-b0f6-ae9eb75cc967",
   "metadata": {
    "tags": []
   },
   "outputs": [],
   "source": [
    "# Dependencies and Setup\n",
    "import pandas as pd\n",
    "\n",
    "# File to Load (Remember to Change These)\n",
    "school_data_to_load = \"Resources/schools_complete.csv\"\n",
    "student_data_to_load = \"Resources/students_complete.csv\"\n",
    "\n",
    "# Read School and Student Data File and store into Pandas DataFrames\n",
    "school_data = pd.read_csv(school_data_to_load)\n",
    "student_data = pd.read_csv(student_data_to_load)\n",
    "\n",
    "# Combine the data into a single dataset.  \n",
    "school_data_complete = pd.merge(student_data, school_data, how=\"left\", on=[\"school_name\", \"school_name\"])"
   ]
  },
  {
   "cell_type": "markdown",
   "id": "44d7cebc-35ad-415a-a960-8107d916ee7a",
   "metadata": {},
   "source": [
    "The first set of goals are as follows:\n"
   ]
  }
 ],
 "metadata": {
  "kernelspec": {
   "display_name": "Python 3 (ipykernel)",
   "language": "python",
   "name": "python3"
  },
  "language_info": {
   "codemirror_mode": {
    "name": "ipython",
    "version": 3
   },
   "file_extension": ".py",
   "mimetype": "text/x-python",
   "name": "python",
   "nbconvert_exporter": "python",
   "pygments_lexer": "ipython3",
   "version": "3.9.7"
  }
 },
 "nbformat": 4,
 "nbformat_minor": 5
}
